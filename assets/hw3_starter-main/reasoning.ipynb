{
 "cells": [
  {
   "cell_type": "markdown",
   "metadata": {
    "id": "niV2fFkQLfxv"
   },
   "source": [
    "## This simple notebook shows how to compute the validity, satisfiability, and entailment for logical sentences and to set up a simple KB agent for propositional logic with functions from AIMA logic.py"
   ]
  },
  {
   "cell_type": "markdown",
   "metadata": {
    "id": "b9alRCRqLfx0"
   },
   "source": [
    "You can run this jupter notebook on your local computer if you cd to your hw4 directory since all of the AIMA files it needs are included in it.  You will probably need to use pip to install **sortedcontainsers**\n",
    "\n",
    "To run on **Colab**, make sure you are logged into Google, uncomment the lines in the following cell, and run it once. This asks the operating system to pip install a package required by logic.py, clone the aima repository in your temporarary file system and then cd to the aima directory so you can import python files.\n",
    "\n",
    "You may find it helpful to look at the code in the aima [logic.py](https://github.com/aimacode/aima-python/blob/master/logic.py) file\n"
   ]
  },
  {
   "cell_type": "code",
   "execution_count": null,
   "metadata": {
    "colab": {
     "base_uri": "https://localhost:8080/"
    },
    "id": "RM6dkRabLfx0",
    "outputId": "4d682675-ed1a-40ec-b7d3-f90418fe3bd3"
   },
   "outputs": [],
   "source": [
    "#!git clone https://github.com/https-github-com-UMBC-CMSC-471-S22/hw4_starter.git;\n",
    "#%cd hw4_starter"
   ]
  },
  {
   "cell_type": "code",
   "execution_count": null,
   "metadata": {
    "id": "FvLSEMI0Lfx1"
   },
   "outputs": [],
   "source": [
    "from logic import *"
   ]
  },
  {
   "cell_type": "markdown",
   "metadata": {
    "id": "emUQJu1tLfx1"
   },
   "source": [
    "The AIMA logic.py function **expr** to create an **Expression object** from a string in which identifiers are automatically defined as Symbols and ==> is treated as an infix |'==>'|, as are <== and <=>. If the argument is already an Expression, it is returned unchanged."
   ]
  },
  {
   "cell_type": "code",
   "execution_count": null,
   "metadata": {
    "id": "Yui9c0HlLfx2"
   },
   "outputs": [],
   "source": [
    "foo = expr('P ==> Q')"
   ]
  },
  {
   "cell_type": "markdown",
   "metadata": {
    "id": "DDmSQRVcLfx2"
   },
   "source": [
    "The expr class (in utils.py) has a __repr__ method that is called when an instance is printed to return a string representation."
   ]
  },
  {
   "cell_type": "code",
   "execution_count": null,
   "metadata": {
    "colab": {
     "base_uri": "https://localhost:8080/"
    },
    "id": "-cthPJ4-Lfx2",
    "outputId": "a6365c8c-e75e-43fe-e3f1-4e2c91be3d5a"
   },
   "outputs": [],
   "source": [
    "print(f\"type:{type(foo)}; {foo}\")"
   ]
  },
  {
   "cell_type": "markdown",
   "metadata": {
    "id": "1PtZcls0Lfx3"
   },
   "source": [
    "Since a **knowledge base** (KB) is just a set of sentences that are all taken to be true, we can represent it as a conjunction of sentences.  This next expr can be thought of as a KB with three sentences."
   ]
  },
  {
   "cell_type": "code",
   "execution_count": null,
   "metadata": {
    "colab": {
     "base_uri": "https://localhost:8080/"
    },
    "id": "wfPjQue2Lfx3",
    "outputId": "9d425703-0b68-4281-977c-324b9c0a39f4"
   },
   "outputs": [],
   "source": [
    "expr('P & (P ==> Q) & (~P ==> R)')"
   ]
  },
  {
   "cell_type": "markdown",
   "metadata": {
    "id": "LMJa5FnbLfx4"
   },
   "source": [
    "The **tt_true** function checks an expression object to see if it is valid, i.e., true in all possible models.  A valid sentence is true for all possible assignments of true and false to its variables."
   ]
  },
  {
   "cell_type": "code",
   "execution_count": null,
   "metadata": {
    "colab": {
     "base_uri": "https://localhost:8080/"
    },
    "id": "W2dowDzaLfx4",
    "outputId": "25516486-c708-4280-9020-a61229d9acc7"
   },
   "outputs": [],
   "source": [
    "tt_true(expr('P'))"
   ]
  },
  {
   "cell_type": "code",
   "execution_count": null,
   "metadata": {
    "colab": {
     "base_uri": "https://localhost:8080/"
    },
    "id": "-ovFE01zLfx4",
    "outputId": "6d31f9d4-4c58-41a9-9920-c6078695fd95"
   },
   "outputs": [],
   "source": [
    "tt_true(expr('P | ~ P'))"
   ]
  },
  {
   "cell_type": "code",
   "execution_count": null,
   "metadata": {
    "colab": {
     "base_uri": "https://localhost:8080/"
    },
    "id": "KaXmUSWPLfx4",
    "outputId": "44ad0d81-3dfc-4979-f51d-87efefa8402f"
   },
   "outputs": [],
   "source": [
    "tt_true(expr('(P ==> Q) <=> (~P | Q)'))"
   ]
  },
  {
   "cell_type": "markdown",
   "metadata": {
    "id": "a45vohFFLfx5"
   },
   "source": [
    "**dpll_satisfiable** checks satisfiability of a propositional sentence, returning a *model* if it is satisfiable and *False* if not.  The model is represented as dictionary with the propositional variables as the keys and True or Fase as their values."
   ]
  },
  {
   "cell_type": "code",
   "execution_count": null,
   "metadata": {
    "colab": {
     "base_uri": "https://localhost:8080/"
    },
    "id": "cy4jYS-_Lfx5",
    "outputId": "b586830d-d3f1-472f-b7c9-aebc6ff3cd93"
   },
   "outputs": [],
   "source": [
    "dpll_satisfiable(expr('P & Q'))"
   ]
  },
  {
   "cell_type": "markdown",
   "metadata": {
    "id": "rIX9juFoLfx5"
   },
   "source": [
    "Note that if there are multiple ways that a sentence can be satisfied, only one model is shown and it may be a minimal model, i.e., not including vaues for variables that can be either True or False."
   ]
  },
  {
   "cell_type": "code",
   "execution_count": null,
   "metadata": {
    "colab": {
     "base_uri": "https://localhost:8080/"
    },
    "id": "0uAOBFR2Lfx6",
    "outputId": "509a01c1-3f46-4648-8eba-d43064dfac36"
   },
   "outputs": [],
   "source": [
    "dpll_satisfiable(expr('P | Q'))"
   ]
  },
  {
   "cell_type": "code",
   "execution_count": null,
   "metadata": {
    "colab": {
     "base_uri": "https://localhost:8080/"
    },
    "id": "4E5VZ26ULfx6",
    "outputId": "8f9ef213-ec1f-427a-8d8e-3fbb6468b5b5"
   },
   "outputs": [],
   "source": [
    "dpll_satisfiable(expr('P & ~Q'))"
   ]
  },
  {
   "cell_type": "markdown",
   "metadata": {
    "id": "CXN5zRn7BjYL"
   },
   "source": [
    "For this example, if Q is true, P can be either True or False, so this is a minimal model."
   ]
  },
  {
   "cell_type": "code",
   "execution_count": null,
   "metadata": {
    "colab": {
     "base_uri": "https://localhost:8080/"
    },
    "id": "1htAY3z1Lfx6",
    "outputId": "38bf279c-2de0-4a1d-fdc4-dd7a1ba4e81c"
   },
   "outputs": [],
   "source": [
    "dpll_satisfiable(expr('P ==> Q'))"
   ]
  },
  {
   "cell_type": "markdown",
   "metadata": {
    "id": "W4liYan1BjYL"
   },
   "source": [
    "dpll_satisfiable takes a single sentence, but it can be arbitrarily comlex, like this conjunction of three simple expressions"
   ]
  },
  {
   "cell_type": "code",
   "execution_count": null,
   "metadata": {
    "colab": {
     "base_uri": "https://localhost:8080/"
    },
    "id": "_KNcgyE1Lfx6",
    "outputId": "6780d970-b0c6-4a3d-f824-b6ebcb94f26d"
   },
   "outputs": [],
   "source": [
    "dpll_satisfiable(expr('P & (P ==> Q) & (~P ==> R)'))"
   ]
  },
  {
   "cell_type": "markdown",
   "metadata": {
    "id": "GRC6dNDpLfx7"
   },
   "source": [
    "The following KB can not be satisfied, since if P is true, then Q must also be true, but the KB says that Q is false."
   ]
  },
  {
   "cell_type": "code",
   "execution_count": null,
   "metadata": {
    "colab": {
     "base_uri": "https://localhost:8080/"
    },
    "id": "TI-UvikmLfx7",
    "outputId": "3967a896-16a5-488e-f1f2-fa9c3bcd9a7c"
   },
   "outputs": [],
   "source": [
    "dpll_satisfiable(expr('P & (P ==> Q) & (~P ==> R) & ~Q'))"
   ]
  },
  {
   "cell_type": "markdown",
   "metadata": {
    "id": "GycyXd8Y6ukb"
   },
   "source": [
    "**tt_entails** uses a simple model checking proceedure can determine if a knowledge base (a conjunction of propositional expressions) entails another (see section 7.4 in our text)"
   ]
  },
  {
   "cell_type": "code",
   "execution_count": null,
   "metadata": {
    "colab": {
     "base_uri": "https://localhost:8080/"
    },
    "id": "zGBPyE635Vqc",
    "outputId": "dffa0cc2-a584-4f86-b5c5-f52d5616df45"
   },
   "outputs": [],
   "source": [
    "tt_entails(expr('P & Q'), expr('Q'))"
   ]
  },
  {
   "cell_type": "code",
   "execution_count": null,
   "metadata": {
    "colab": {
     "base_uri": "https://localhost:8080/"
    },
    "id": "vZnbxsDx7tlP",
    "outputId": "2938c0de-9220-4411-cbf9-faf96e9f7f40"
   },
   "outputs": [],
   "source": [
    "tt_entails(expr('P | Q'), expr('Q'))"
   ]
  },
  {
   "cell_type": "markdown",
   "metadata": {
    "id": "_4x3xGDJxtzu"
   },
   "source": [
    "We can also use **WalkSAT**, a function that uses local search.  It takes a list of clauses and checks for their satisfiability by randomly flipping values of the variables in them.  It returns None if no solution can be found within its alloted flips, which has a default of 10k.  This can often solve larger problems than dpll, but, although it is **sound**, it is not **complete**."
   ]
  },
  {
   "cell_type": "code",
   "execution_count": null,
   "metadata": {
    "colab": {
     "base_uri": "https://localhost:8080/"
    },
    "id": "9_zvD6Q0Lfx7",
    "outputId": "4ef2e6f4-149d-440d-c662-4dd346dbe2ac"
   },
   "outputs": [],
   "source": [
    "WalkSAT([expr('P & (P ==> Q) & (~P ==> R)')])"
   ]
  },
  {
   "cell_type": "markdown",
   "metadata": {
    "id": "4JY6eHFyBjYN"
   },
   "source": [
    "WalkSAT returns None if it cannot find a model that satisfies the list of expressions.  Of course, Python does not print anything for input that evaluates to None, as the following eample shows."
   ]
  },
  {
   "cell_type": "code",
   "execution_count": null,
   "metadata": {
    "id": "d55FGf34zjT0"
   },
   "outputs": [],
   "source": [
    "WalkSAT([expr('P & (P ==> Q) & (~P ==> R) & ~Q')])"
   ]
  },
  {
   "cell_type": "markdown",
   "metadata": {
    "id": "d7OGZOSDBjYN"
   },
   "source": [
    "Here's a case there the set of sentences is empty, so it shiuld return an empty model in the form of an empty dictionary"
   ]
  },
  {
   "cell_type": "code",
   "execution_count": null,
   "metadata": {
    "id": "HWPbgdTUBjYN"
   },
   "outputs": [],
   "source": [
    "WalkSAT([])"
   ]
  },
  {
   "cell_type": "markdown",
   "metadata": {
    "id": "Pr7ppnm5BjYO"
   },
   "source": [
    "**PropKB** is  a class for a KB of propositions.  We'll create **kb1** as a new knowledge base"
   ]
  },
  {
   "cell_type": "code",
   "execution_count": null,
   "metadata": {
    "id": "5O86cUEmBjYO"
   },
   "outputs": [],
   "source": [
    "kb1 = PropKB()"
   ]
  },
  {
   "cell_type": "markdown",
   "metadata": {
    "id": "P6A8ZoINBjYO"
   },
   "source": [
    "and add several sentences to it"
   ]
  },
  {
   "cell_type": "code",
   "execution_count": null,
   "metadata": {
    "id": "eQghjDp0BjYO"
   },
   "outputs": [],
   "source": [
    "kb1.tell(expr('P ==> Q'))\n",
    "kb1.tell(expr('Q ==> R'))"
   ]
  },
  {
   "cell_type": "markdown",
   "metadata": {
    "id": "jYaPAN0kBjYO"
   },
   "source": [
    "The KB does not know and cannot infer that R is True"
   ]
  },
  {
   "cell_type": "code",
   "execution_count": null,
   "metadata": {
    "id": "ujdU3fTVBjYO"
   },
   "outputs": [],
   "source": [
    "kb1.ask_if_true(expr('R'))"
   ]
  },
  {
   "cell_type": "markdown",
   "metadata": {
    "id": "E3uxHgcaBjYO"
   },
   "source": [
    "If we add P to the KB, it can infer Q and then R"
   ]
  },
  {
   "cell_type": "code",
   "execution_count": null,
   "metadata": {
    "id": "OlvTo8sMBjYP"
   },
   "outputs": [],
   "source": [
    "kb1.tell(expr('P'))"
   ]
  },
  {
   "cell_type": "code",
   "execution_count": null,
   "metadata": {
    "id": "V2eA2HYBBjYP"
   },
   "outputs": [],
   "source": [
    "kb1.ask_if_true(expr('R'))"
   ]
  },
  {
   "cell_type": "markdown",
   "metadata": {
    "id": "NwFFHK129DVz"
   },
   "source": [
    "The clauses property of a KB holds the facts in conjunctive normal form"
   ]
  },
  {
   "cell_type": "code",
   "execution_count": null,
   "metadata": {
    "id": "cngdj7GL8l9x"
   },
   "outputs": [],
   "source": [
    "kb1.clauses"
   ]
  },
  {
   "cell_type": "markdown",
   "metadata": {
    "id": "wWRRsZ_R-XXo"
   },
   "source": [
    "If we have an inconsistant KB, this simple proceedure wil prove that anything is true"
   ]
  },
  {
   "cell_type": "code",
   "execution_count": null,
   "metadata": {
    "id": "aX6sL0FN9xxx"
   },
   "outputs": [],
   "source": [
    "kb1.tell(expr('~P'))\n",
    "kb1.clauses"
   ]
  },
  {
   "cell_type": "code",
   "execution_count": null,
   "metadata": {
    "id": "hulQ3siI-J4a"
   },
   "outputs": [],
   "source": [
    "kb1.ask_if_true(expr('X'))"
   ]
  },
  {
   "cell_type": "code",
   "execution_count": null,
   "metadata": {
    "id": "mPdN7MHZA7z-"
   },
   "outputs": [],
   "source": [
    "kb1.ask_if_true(expr('~X'))"
   ]
  },
  {
   "cell_type": "markdown",
   "metadata": {},
   "source": [
    "### *fin*"
   ]
  }
 ],
 "metadata": {
  "colab": {
   "collapsed_sections": [],
   "name": "reasoning.ipynb",
   "provenance": []
  },
  "kernelspec": {
   "display_name": "Python 3 (ipykernel)",
   "language": "python",
   "name": "python3"
  },
  "language_info": {
   "codemirror_mode": {
    "name": "ipython",
    "version": 3
   },
   "file_extension": ".py",
   "mimetype": "text/x-python",
   "name": "python",
   "nbconvert_exporter": "python",
   "pygments_lexer": "ipython3",
   "version": "3.9.7"
  }
 },
 "nbformat": 4,
 "nbformat_minor": 1
}
